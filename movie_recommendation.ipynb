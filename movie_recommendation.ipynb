{
 "cells": [
  {
   "cell_type": "code",
   "execution_count": null,
   "id": "71642812",
   "metadata": {},
   "outputs": [],
   "source": [
    "import pandas as pd\n",
    "import numpy as np\n",
    "import difflib\n",
    "from sklearn.feature_extraction.text import TfidfVectorizer\n",
    "from sklearn.metrics.pairwise import cosine_similarity\n"
   ]
  },
  {
   "cell_type": "code",
   "execution_count": null,
   "id": "b5e8fba0",
   "metadata": {},
   "outputs": [],
   "source": [
    "movies_data = pd.read_csv('movies.csv')"
   ]
  },
  {
   "cell_type": "code",
   "execution_count": null,
   "id": "cf5beb61",
   "metadata": {},
   "outputs": [],
   "source": [
    "movies_data.head(5)\n"
   ]
  },
  {
   "cell_type": "code",
   "execution_count": null,
   "id": "0e9e164e",
   "metadata": {},
   "outputs": [],
   "source": [
    "movies_data.shape"
   ]
  },
  {
   "cell_type": "code",
   "execution_count": null,
   "id": "9cbd3ef7",
   "metadata": {},
   "outputs": [],
   "source": [
    "selected_features = ['genres','keywords','tagline','cast','director']"
   ]
  },
  {
   "cell_type": "code",
   "execution_count": null,
   "id": "cf6ba081",
   "metadata": {},
   "outputs": [],
   "source": [
    "movies_data.isnull().sum()"
   ]
  },
  {
   "cell_type": "code",
   "execution_count": null,
   "id": "594bae28",
   "metadata": {},
   "outputs": [],
   "source": [
    "for feature in selected_features : \n",
    "    movies_data[feature] = movies_data[feature].fillna('')"
   ]
  },
  {
   "cell_type": "markdown",
   "id": "162cc1a5",
   "metadata": {},
   "source": [
    "### Combining the 5 selected features "
   ]
  },
  {
   "cell_type": "code",
   "execution_count": null,
   "id": "f09891a6",
   "metadata": {},
   "outputs": [],
   "source": [
    "combined_features = movies_data['genres']+ ' '+ movies_data['keywords']+' '+ movies_data['tagline']+' '+ movies_data['cast']+' '+ movies_data['director']"
   ]
  },
  {
   "cell_type": "markdown",
   "id": "0a053a88",
   "metadata": {},
   "source": [
    "### Converting the text data to feature vectors\n"
   ]
  },
  {
   "cell_type": "code",
   "execution_count": null,
   "id": "39eccdf3",
   "metadata": {},
   "outputs": [],
   "source": [
    "vectorizer = TfidfVectorizer()"
   ]
  },
  {
   "cell_type": "code",
   "execution_count": null,
   "id": "7bdd7312",
   "metadata": {},
   "outputs": [],
   "source": [
    "feature_vectors = vectorizer.fit_transform(combined_features)"
   ]
  },
  {
   "cell_type": "code",
   "execution_count": null,
   "id": "5d6d93c4",
   "metadata": {},
   "outputs": [],
   "source": [
    "print(feature_vectors)"
   ]
  },
  {
   "cell_type": "markdown",
   "id": "f4af48ab",
   "metadata": {},
   "source": [
    "### Getting the similiarity scores using cosing similarity "
   ]
  },
  {
   "cell_type": "code",
   "execution_count": null,
   "id": "fa8a0292",
   "metadata": {},
   "outputs": [],
   "source": [
    "similarity = cosine_similarity(feature_vectors)"
   ]
  },
  {
   "cell_type": "code",
   "execution_count": null,
   "id": "a9783311",
   "metadata": {},
   "outputs": [],
   "source": [
    "similarity"
   ]
  },
  {
   "cell_type": "code",
   "execution_count": null,
   "id": "450c7b9b",
   "metadata": {},
   "outputs": [],
   "source": [
    "similarity.shape"
   ]
  },
  {
   "cell_type": "markdown",
   "id": "a1780006",
   "metadata": {},
   "source": [
    "### Creating a list with all the movies in the dataset"
   ]
  },
  {
   "cell_type": "code",
   "execution_count": null,
   "id": "4f6f9fb1",
   "metadata": {},
   "outputs": [],
   "source": [
    "list_of_all_titles = movies_data['title'].tolist()\n",
    "print(list_of_all_titles)"
   ]
  },
  {
   "cell_type": "markdown",
   "id": "b2d88f06",
   "metadata": {},
   "source": [
    "### Finding the close match for the movie name given by the user"
   ]
  },
  {
   "cell_type": "code",
   "execution_count": null,
   "id": "fe445e1a",
   "metadata": {},
   "outputs": [],
   "source": [
    "find_close_match = difflib.get_close_matches(movie_name,list_of_all_titles)\n",
    "print(find_close_match)"
   ]
  },
  {
   "cell_type": "code",
   "execution_count": null,
   "id": "cd2456c3",
   "metadata": {},
   "outputs": [],
   "source": [
    "close_match = find_close_match[0]\n",
    "print(close_match)"
   ]
  },
  {
   "cell_type": "markdown",
   "id": "8c9ae256",
   "metadata": {},
   "source": [
    "### Finding the index of the movies with title"
   ]
  },
  {
   "cell_type": "code",
   "execution_count": null,
   "id": "d43867ff",
   "metadata": {},
   "outputs": [],
   "source": [
    "index_of_the_movie = movies_data[movies_data.title == close_match]['index'].values[0]\n",
    "index_of_the_movie"
   ]
  },
  {
   "cell_type": "markdown",
   "id": "d0377a80",
   "metadata": {},
   "source": [
    "### Getting a list of similar movies "
   ]
  },
  {
   "cell_type": "code",
   "execution_count": null,
   "id": "ce96fe45",
   "metadata": {},
   "outputs": [],
   "source": [
    "similarity_score = list(enumerate(similarity[index_of_the_movie]))\n",
    "print(similarity_score)"
   ]
  },
  {
   "cell_type": "code",
   "execution_count": null,
   "id": "8127f9ba",
   "metadata": {},
   "outputs": [],
   "source": [
    "len(similarity_score)"
   ]
  },
  {
   "cell_type": "markdown",
   "id": "c90b34c3",
   "metadata": {},
   "source": [
    "### Sorting the movies based on their similarity score"
   ]
  },
  {
   "cell_type": "code",
   "execution_count": null,
   "id": "ab85466f",
   "metadata": {},
   "outputs": [],
   "source": [
    "sorted_similar_movies = sorted(similarity_score,key= lambda x:x[1], reverse=True)\n",
    "print(sorted_similar_movies)"
   ]
  },
  {
   "cell_type": "markdown",
   "id": "62830604",
   "metadata": {},
   "source": [
    "### Print the name of similar movies based on the index"
   ]
  },
  {
   "cell_type": "code",
   "execution_count": null,
   "id": "55ff1d8d",
   "metadata": {},
   "outputs": [],
   "source": [
    "print('Movies suggested for you : \\n')\n",
    "i=1\n",
    "for movie in sorted_similar_movies : \n",
    "    index = movie[0]\n",
    "    title_from_index = movies_data[movies_data.index==index]['title'].values[0]\n",
    "    if(i<10):\n",
    "        print(i,'',title_from_index)\n",
    "        i+=1"
   ]
  },
  {
   "cell_type": "markdown",
   "id": "902cb405",
   "metadata": {},
   "source": [
    "### Movie Recommendation System"
   ]
  },
  {
   "cell_type": "code",
   "execution_count": null,
   "id": "8a4d7000",
   "metadata": {},
   "outputs": [],
   "source": [
    "movie_name = input(\" Enter you favourite movie name \")\n",
    "\n",
    "list_of_all_titles = movies_data['title'].tolist()\n",
    "find_close_match = difflib.get_close_matches(movie_name,list_of_all_titles)\n",
    "close_match = find_close_match[0]\n",
    "index_of_the_movie = movies_data[movies_data.title == close_match]['index'].values[0]\n",
    "similarity_score = list(enumerate(similarity[index_of_the_movie]))\n",
    "sorted_similar_movies = sorted(similarity_score,key= lambda x:x[1], reverse=True)\n",
    "print('Movies suggested for you : \\n')\n",
    "i=1\n",
    "for movie in sorted_similar_movies : \n",
    "    index = movie[0]\n",
    "    title_from_index = movies_data[movies_data.index==index]['title'].values[0]\n",
    "    if(i<10):\n",
    "        print(i,'',title_from_index)\n",
    "        i+=1\n",
    "        \n",
    "\n",
    "\n",
    "\n"
   ]
  }
 ],
 "metadata": {
  "kernelspec": {
   "display_name": "Python 3 (ipykernel)",
   "language": "python",
   "name": "python3"
  },
  "language_info": {
   "codemirror_mode": {
    "name": "ipython",
    "version": 3
   },
   "file_extension": ".py",
   "mimetype": "text/x-python",
   "name": "python",
   "nbconvert_exporter": "python",
   "pygments_lexer": "ipython3",
   "version": "3.11.0"
  }
 },
 "nbformat": 4,
 "nbformat_minor": 5
}
